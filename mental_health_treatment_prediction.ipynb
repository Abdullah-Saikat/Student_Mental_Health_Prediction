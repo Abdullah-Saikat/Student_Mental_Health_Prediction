{
  "metadata": {
    "kernelspec": {
      "language": "python",
      "display_name": "Python 3",
      "name": "python3"
    },
    "language_info": {
      "pygments_lexer": "ipython3",
      "nbconvert_exporter": "python",
      "version": "3.6.4",
      "file_extension": ".py",
      "codemirror_mode": {
        "name": "ipython",
        "version": 3
      },
      "name": "python",
      "mimetype": "text/x-python"
    },
    "colab": {
      "name": "mental-health-treatment-prediction.ipynb",
      "provenance": [],
      "collapsed_sections": [
        "QUF1cjaaxXe_"
      ],
      "include_colab_link": true
    }
  },
  "nbformat_minor": 0,
  "nbformat": 4,
  "cells": [
    {
      "cell_type": "markdown",
      "metadata": {
        "id": "view-in-github",
        "colab_type": "text"
      },
      "source": [
        "<a href=\"https://colab.research.google.com/github/Abdullah-Saikat/Student_Mental_health_Prediction/blob/main/mental_health_treatment_prediction.ipynb\" target=\"_parent\"><img src=\"https://colab.research.google.com/assets/colab-badge.svg\" alt=\"Open In Colab\"/></a>"
      ]
    },
    {
      "cell_type": "markdown",
      "source": [
        "# Task for Today  \n",
        "\n",
        "***\n",
        "\n",
        "## Mental Health Treatment Prediction  \n",
        "\n",
        "Given *data about the mental health of employees in the tech industry*, let's try to predict whether a given subject has **sought treatment** in the past.  \n",
        "  \n",
        "We will use a TensorFlow ANN to make our predictions."
      ],
      "metadata": {
        "id": "YSctSlPBxXeM"
      }
    },
    {
      "cell_type": "code",
      "source": [
        "from google.colab import drive\n",
        "drive.mount('/content/drive')"
      ],
      "metadata": {
        "colab": {
          "base_uri": "https://localhost:8080/"
        },
        "id": "QVQ0_iZ7xkTt",
        "outputId": "6709fc9e-4ec6-42fe-b839-c9a34abf102b"
      },
      "execution_count": 1,
      "outputs": [
        {
          "output_type": "stream",
          "name": "stdout",
          "text": [
            "Mounted at /content/drive\n"
          ]
        }
      ]
    },
    {
      "cell_type": "markdown",
      "source": [
        "# Getting Started"
      ],
      "metadata": {
        "id": "hah8zYYOxXed"
      }
    },
    {
      "cell_type": "code",
      "source": [
        "import numpy as np\n",
        "import pandas as pd\n",
        "\n",
        "import matplotlib.pyplot as plt\n",
        "\n",
        "from sklearn.preprocessing import StandardScaler\n",
        "from sklearn.model_selection import train_test_split\n",
        "\n",
        "import tensorflow as tf"
      ],
      "metadata": {
        "_uuid": "d629ff2d2480ee46fbb7e2d37f6b5fab8052498a",
        "_cell_guid": "79c7e3d0-c299-4dcb-8224-4455121ee9b0",
        "trusted": true,
        "id": "a18yU329xXeg"
      },
      "execution_count": null,
      "outputs": []
    },
    {
      "cell_type": "code",
      "source": [
        "data = pd.read_csv('/content/drive/MyDrive/SURVEY DATA/survey-data.csv')\n"
      ],
      "metadata": {
        "trusted": true,
        "id": "JEp4-iv6xXel"
      },
      "execution_count": null,
      "outputs": []
    },
    {
      "cell_type": "code",
      "source": [
        "data.head()"
      ],
      "metadata": {
        "trusted": true,
        "id": "9Mm4aFgZxXen",
        "colab": {
          "base_uri": "https://localhost:8080/",
          "height": 473
        },
        "outputId": "fa5455a8-b717-45e4-e55e-b4a90ee2afda"
      },
      "execution_count": null,
      "outputs": [
        {
          "output_type": "execute_result",
          "data": {
            "text/plain": [
              "             Timestamp  Age  Gender        City state self_employed  \\\n",
              "0  2014-08-27 11:29:31   27  Female       Dhaka    IL           NaN   \n",
              "1  2014-08-27 11:29:37   22       M       Dhaka    IN           NaN   \n",
              "2  2014-08-27 11:29:44   22    Male    Rajshahi   NaN           NaN   \n",
              "3  2014-08-27 11:29:46   21    Male  Chittagong   NaN           NaN   \n",
              "4  2014-08-27 11:30:22   21    Male       Dhaka    TX           NaN   \n",
              "\n",
              "  family_history treatment work_interfere    no_employees  ...  \\\n",
              "0             No       Yes          Often            6-25  ...   \n",
              "1             No        No         Rarely  More than 1000  ...   \n",
              "2             No        No         Rarely            6-25  ...   \n",
              "3            Yes       Yes          Often          26-100  ...   \n",
              "4             No        No          Never         100-500  ...   \n",
              "\n",
              "                leave mental_health_consequence phys_health_consequence  \\\n",
              "0       Somewhat easy                        No                      No   \n",
              "1          Don't know                     Maybe                      No   \n",
              "2  Somewhat difficult                        No                      No   \n",
              "3  Somewhat difficult                       Yes                     Yes   \n",
              "4          Don't know                        No                      No   \n",
              "\n",
              "      coworkers supervisor mental_health_interview phys_health_interview  \\\n",
              "0  Some of them        Yes                      No                 Maybe   \n",
              "1            No         No                      No                    No   \n",
              "2           Yes        Yes                     Yes                   Yes   \n",
              "3  Some of them         No                   Maybe                 Maybe   \n",
              "4  Some of them        Yes                     Yes                   Yes   \n",
              "\n",
              "  mental_vs_physical obs_consequence comments  \n",
              "0                Yes              No      NaN  \n",
              "1         Don't know              No      NaN  \n",
              "2                 No              No      NaN  \n",
              "3                 No             Yes      NaN  \n",
              "4         Don't know              No      NaN  \n",
              "\n",
              "[5 rows x 27 columns]"
            ],
            "text/html": [
              "\n",
              "  <div id=\"df-6e6d9ef4-a84d-4728-92f3-9f4b4f81623a\">\n",
              "    <div class=\"colab-df-container\">\n",
              "      <div>\n",
              "<style scoped>\n",
              "    .dataframe tbody tr th:only-of-type {\n",
              "        vertical-align: middle;\n",
              "    }\n",
              "\n",
              "    .dataframe tbody tr th {\n",
              "        vertical-align: top;\n",
              "    }\n",
              "\n",
              "    .dataframe thead th {\n",
              "        text-align: right;\n",
              "    }\n",
              "</style>\n",
              "<table border=\"1\" class=\"dataframe\">\n",
              "  <thead>\n",
              "    <tr style=\"text-align: right;\">\n",
              "      <th></th>\n",
              "      <th>Timestamp</th>\n",
              "      <th>Age</th>\n",
              "      <th>Gender</th>\n",
              "      <th>City</th>\n",
              "      <th>state</th>\n",
              "      <th>self_employed</th>\n",
              "      <th>family_history</th>\n",
              "      <th>treatment</th>\n",
              "      <th>work_interfere</th>\n",
              "      <th>no_employees</th>\n",
              "      <th>...</th>\n",
              "      <th>leave</th>\n",
              "      <th>mental_health_consequence</th>\n",
              "      <th>phys_health_consequence</th>\n",
              "      <th>coworkers</th>\n",
              "      <th>supervisor</th>\n",
              "      <th>mental_health_interview</th>\n",
              "      <th>phys_health_interview</th>\n",
              "      <th>mental_vs_physical</th>\n",
              "      <th>obs_consequence</th>\n",
              "      <th>comments</th>\n",
              "    </tr>\n",
              "  </thead>\n",
              "  <tbody>\n",
              "    <tr>\n",
              "      <th>0</th>\n",
              "      <td>2014-08-27 11:29:31</td>\n",
              "      <td>27</td>\n",
              "      <td>Female</td>\n",
              "      <td>Dhaka</td>\n",
              "      <td>IL</td>\n",
              "      <td>NaN</td>\n",
              "      <td>No</td>\n",
              "      <td>Yes</td>\n",
              "      <td>Often</td>\n",
              "      <td>6-25</td>\n",
              "      <td>...</td>\n",
              "      <td>Somewhat easy</td>\n",
              "      <td>No</td>\n",
              "      <td>No</td>\n",
              "      <td>Some of them</td>\n",
              "      <td>Yes</td>\n",
              "      <td>No</td>\n",
              "      <td>Maybe</td>\n",
              "      <td>Yes</td>\n",
              "      <td>No</td>\n",
              "      <td>NaN</td>\n",
              "    </tr>\n",
              "    <tr>\n",
              "      <th>1</th>\n",
              "      <td>2014-08-27 11:29:37</td>\n",
              "      <td>22</td>\n",
              "      <td>M</td>\n",
              "      <td>Dhaka</td>\n",
              "      <td>IN</td>\n",
              "      <td>NaN</td>\n",
              "      <td>No</td>\n",
              "      <td>No</td>\n",
              "      <td>Rarely</td>\n",
              "      <td>More than 1000</td>\n",
              "      <td>...</td>\n",
              "      <td>Don't know</td>\n",
              "      <td>Maybe</td>\n",
              "      <td>No</td>\n",
              "      <td>No</td>\n",
              "      <td>No</td>\n",
              "      <td>No</td>\n",
              "      <td>No</td>\n",
              "      <td>Don't know</td>\n",
              "      <td>No</td>\n",
              "      <td>NaN</td>\n",
              "    </tr>\n",
              "    <tr>\n",
              "      <th>2</th>\n",
              "      <td>2014-08-27 11:29:44</td>\n",
              "      <td>22</td>\n",
              "      <td>Male</td>\n",
              "      <td>Rajshahi</td>\n",
              "      <td>NaN</td>\n",
              "      <td>NaN</td>\n",
              "      <td>No</td>\n",
              "      <td>No</td>\n",
              "      <td>Rarely</td>\n",
              "      <td>6-25</td>\n",
              "      <td>...</td>\n",
              "      <td>Somewhat difficult</td>\n",
              "      <td>No</td>\n",
              "      <td>No</td>\n",
              "      <td>Yes</td>\n",
              "      <td>Yes</td>\n",
              "      <td>Yes</td>\n",
              "      <td>Yes</td>\n",
              "      <td>No</td>\n",
              "      <td>No</td>\n",
              "      <td>NaN</td>\n",
              "    </tr>\n",
              "    <tr>\n",
              "      <th>3</th>\n",
              "      <td>2014-08-27 11:29:46</td>\n",
              "      <td>21</td>\n",
              "      <td>Male</td>\n",
              "      <td>Chittagong</td>\n",
              "      <td>NaN</td>\n",
              "      <td>NaN</td>\n",
              "      <td>Yes</td>\n",
              "      <td>Yes</td>\n",
              "      <td>Often</td>\n",
              "      <td>26-100</td>\n",
              "      <td>...</td>\n",
              "      <td>Somewhat difficult</td>\n",
              "      <td>Yes</td>\n",
              "      <td>Yes</td>\n",
              "      <td>Some of them</td>\n",
              "      <td>No</td>\n",
              "      <td>Maybe</td>\n",
              "      <td>Maybe</td>\n",
              "      <td>No</td>\n",
              "      <td>Yes</td>\n",
              "      <td>NaN</td>\n",
              "    </tr>\n",
              "    <tr>\n",
              "      <th>4</th>\n",
              "      <td>2014-08-27 11:30:22</td>\n",
              "      <td>21</td>\n",
              "      <td>Male</td>\n",
              "      <td>Dhaka</td>\n",
              "      <td>TX</td>\n",
              "      <td>NaN</td>\n",
              "      <td>No</td>\n",
              "      <td>No</td>\n",
              "      <td>Never</td>\n",
              "      <td>100-500</td>\n",
              "      <td>...</td>\n",
              "      <td>Don't know</td>\n",
              "      <td>No</td>\n",
              "      <td>No</td>\n",
              "      <td>Some of them</td>\n",
              "      <td>Yes</td>\n",
              "      <td>Yes</td>\n",
              "      <td>Yes</td>\n",
              "      <td>Don't know</td>\n",
              "      <td>No</td>\n",
              "      <td>NaN</td>\n",
              "    </tr>\n",
              "  </tbody>\n",
              "</table>\n",
              "<p>5 rows × 27 columns</p>\n",
              "</div>\n",
              "      <button class=\"colab-df-convert\" onclick=\"convertToInteractive('df-6e6d9ef4-a84d-4728-92f3-9f4b4f81623a')\"\n",
              "              title=\"Convert this dataframe to an interactive table.\"\n",
              "              style=\"display:none;\">\n",
              "        \n",
              "  <svg xmlns=\"http://www.w3.org/2000/svg\" height=\"24px\"viewBox=\"0 0 24 24\"\n",
              "       width=\"24px\">\n",
              "    <path d=\"M0 0h24v24H0V0z\" fill=\"none\"/>\n",
              "    <path d=\"M18.56 5.44l.94 2.06.94-2.06 2.06-.94-2.06-.94-.94-2.06-.94 2.06-2.06.94zm-11 1L8.5 8.5l.94-2.06 2.06-.94-2.06-.94L8.5 2.5l-.94 2.06-2.06.94zm10 10l.94 2.06.94-2.06 2.06-.94-2.06-.94-.94-2.06-.94 2.06-2.06.94z\"/><path d=\"M17.41 7.96l-1.37-1.37c-.4-.4-.92-.59-1.43-.59-.52 0-1.04.2-1.43.59L10.3 9.45l-7.72 7.72c-.78.78-.78 2.05 0 2.83L4 21.41c.39.39.9.59 1.41.59.51 0 1.02-.2 1.41-.59l7.78-7.78 2.81-2.81c.8-.78.8-2.07 0-2.86zM5.41 20L4 18.59l7.72-7.72 1.47 1.35L5.41 20z\"/>\n",
              "  </svg>\n",
              "      </button>\n",
              "      \n",
              "  <style>\n",
              "    .colab-df-container {\n",
              "      display:flex;\n",
              "      flex-wrap:wrap;\n",
              "      gap: 12px;\n",
              "    }\n",
              "\n",
              "    .colab-df-convert {\n",
              "      background-color: #E8F0FE;\n",
              "      border: none;\n",
              "      border-radius: 50%;\n",
              "      cursor: pointer;\n",
              "      display: none;\n",
              "      fill: #1967D2;\n",
              "      height: 32px;\n",
              "      padding: 0 0 0 0;\n",
              "      width: 32px;\n",
              "    }\n",
              "\n",
              "    .colab-df-convert:hover {\n",
              "      background-color: #E2EBFA;\n",
              "      box-shadow: 0px 1px 2px rgba(60, 64, 67, 0.3), 0px 1px 3px 1px rgba(60, 64, 67, 0.15);\n",
              "      fill: #174EA6;\n",
              "    }\n",
              "\n",
              "    [theme=dark] .colab-df-convert {\n",
              "      background-color: #3B4455;\n",
              "      fill: #D2E3FC;\n",
              "    }\n",
              "\n",
              "    [theme=dark] .colab-df-convert:hover {\n",
              "      background-color: #434B5C;\n",
              "      box-shadow: 0px 1px 3px 1px rgba(0, 0, 0, 0.15);\n",
              "      filter: drop-shadow(0px 1px 2px rgba(0, 0, 0, 0.3));\n",
              "      fill: #FFFFFF;\n",
              "    }\n",
              "  </style>\n",
              "\n",
              "      <script>\n",
              "        const buttonEl =\n",
              "          document.querySelector('#df-6e6d9ef4-a84d-4728-92f3-9f4b4f81623a button.colab-df-convert');\n",
              "        buttonEl.style.display =\n",
              "          google.colab.kernel.accessAllowed ? 'block' : 'none';\n",
              "\n",
              "        async function convertToInteractive(key) {\n",
              "          const element = document.querySelector('#df-6e6d9ef4-a84d-4728-92f3-9f4b4f81623a');\n",
              "          const dataTable =\n",
              "            await google.colab.kernel.invokeFunction('convertToInteractive',\n",
              "                                                     [key], {});\n",
              "          if (!dataTable) return;\n",
              "\n",
              "          const docLinkHtml = 'Like what you see? Visit the ' +\n",
              "            '<a target=\"_blank\" href=https://colab.research.google.com/notebooks/data_table.ipynb>data table notebook</a>'\n",
              "            + ' to learn more about interactive tables.';\n",
              "          element.innerHTML = '';\n",
              "          dataTable['output_type'] = 'display_data';\n",
              "          await google.colab.output.renderOutput(dataTable, element);\n",
              "          const docLink = document.createElement('div');\n",
              "          docLink.innerHTML = docLinkHtml;\n",
              "          element.appendChild(docLink);\n",
              "        }\n",
              "      </script>\n",
              "    </div>\n",
              "  </div>\n",
              "  "
            ]
          },
          "metadata": {},
          "execution_count": 76
        }
      ]
    },
    {
      "cell_type": "markdown",
      "source": [
        "# Cleaning"
      ],
      "metadata": {
        "id": "ZULrZ-u_xXeo"
      }
    },
    {
      "cell_type": "code",
      "source": [
        "data.isna().sum()"
      ],
      "metadata": {
        "trusted": true,
        "id": "Ve_wLXNaxXep",
        "colab": {
          "base_uri": "https://localhost:8080/"
        },
        "outputId": "b5e39f27-6d48-41bb-e027-0486c19b001b"
      },
      "execution_count": null,
      "outputs": [
        {
          "output_type": "execute_result",
          "data": {
            "text/plain": [
              "Timestamp                       0\n",
              "Age                             0\n",
              "Gender                          0\n",
              "City                            0\n",
              "state                         515\n",
              "self_employed                  18\n",
              "family_history                  0\n",
              "treatment                       0\n",
              "work_interfere                264\n",
              "no_employees                    0\n",
              "remote_work                     0\n",
              "tech_company                    0\n",
              "benefits                        0\n",
              "care_options                    0\n",
              "wellness_program                0\n",
              "seek_help                       0\n",
              "anonymity                       0\n",
              "leave                           0\n",
              "mental_health_consequence       0\n",
              "phys_health_consequence         0\n",
              "coworkers                       0\n",
              "supervisor                      0\n",
              "mental_health_interview         0\n",
              "phys_health_interview           0\n",
              "mental_vs_physical              0\n",
              "obs_consequence                 0\n",
              "comments                     1095\n",
              "dtype: int64"
            ]
          },
          "metadata": {},
          "execution_count": 77
        }
      ]
    },
    {
      "cell_type": "code",
      "source": [
        "data = data.drop('comments', axis=1)\n"
      ],
      "metadata": {
        "trusted": true,
        "id": "x1xTf4vNxXer"
      },
      "execution_count": null,
      "outputs": []
    },
    {
      "cell_type": "code",
      "source": [
        "data = data.drop('state', axis=1)"
      ],
      "metadata": {
        "id": "_IGftgyER-Lr"
      },
      "execution_count": null,
      "outputs": []
    },
    {
      "cell_type": "code",
      "source": [
        "data.isna().sum()"
      ],
      "metadata": {
        "colab": {
          "base_uri": "https://localhost:8080/"
        },
        "id": "tXQ7G1BTSM6Y",
        "outputId": "74030310-320e-465f-f36e-5572cce64fcf"
      },
      "execution_count": null,
      "outputs": [
        {
          "output_type": "execute_result",
          "data": {
            "text/plain": [
              "Timestamp                      0\n",
              "Age                            0\n",
              "Gender                         0\n",
              "City                           0\n",
              "self_employed                 18\n",
              "family_history                 0\n",
              "treatment                      0\n",
              "work_interfere               264\n",
              "no_employees                   0\n",
              "remote_work                    0\n",
              "tech_company                   0\n",
              "benefits                       0\n",
              "care_options                   0\n",
              "wellness_program               0\n",
              "seek_help                      0\n",
              "anonymity                      0\n",
              "leave                          0\n",
              "mental_health_consequence      0\n",
              "phys_health_consequence        0\n",
              "coworkers                      0\n",
              "supervisor                     0\n",
              "mental_health_interview        0\n",
              "phys_health_interview          0\n",
              "mental_vs_physical             0\n",
              "obs_consequence                0\n",
              "dtype: int64"
            ]
          },
          "metadata": {},
          "execution_count": 80
        }
      ]
    },
    {
      "cell_type": "code",
      "source": [
        "data['self_employed'].unique()"
      ],
      "metadata": {
        "trusted": true,
        "id": "kXjl36bBxXes",
        "colab": {
          "base_uri": "https://localhost:8080/"
        },
        "outputId": "5b9246bf-bd28-41d8-bc1f-e4b4fbb8dcf7"
      },
      "execution_count": null,
      "outputs": [
        {
          "output_type": "execute_result",
          "data": {
            "text/plain": [
              "array([nan, 'Yes', 'No'], dtype=object)"
            ]
          },
          "metadata": {},
          "execution_count": 81
        }
      ]
    },
    {
      "cell_type": "code",
      "source": [
        "data['self_employed'].mode()"
      ],
      "metadata": {
        "trusted": true,
        "id": "rWwhZ1JfxXeu",
        "colab": {
          "base_uri": "https://localhost:8080/"
        },
        "outputId": "66edaefa-901b-44ea-87c8-2eef7917b6f3"
      },
      "execution_count": null,
      "outputs": [
        {
          "output_type": "execute_result",
          "data": {
            "text/plain": [
              "0    No\n",
              "dtype: object"
            ]
          },
          "metadata": {},
          "execution_count": 82
        }
      ]
    },
    {
      "cell_type": "code",
      "source": [
        "data['self_employed'] = data['self_employed'].fillna('No')"
      ],
      "metadata": {
        "trusted": true,
        "id": "SvyJ8gtyxXev"
      },
      "execution_count": null,
      "outputs": []
    },
    {
      "cell_type": "code",
      "source": [
        "data['work_interfere'].unique()"
      ],
      "metadata": {
        "trusted": true,
        "id": "tfS23DhBxXew",
        "colab": {
          "base_uri": "https://localhost:8080/"
        },
        "outputId": "483f85a0-5613-4f49-9de6-62fc1295ffab"
      },
      "execution_count": null,
      "outputs": [
        {
          "output_type": "execute_result",
          "data": {
            "text/plain": [
              "array(['Often', 'Rarely', 'Never', 'Sometimes', nan], dtype=object)"
            ]
          },
          "metadata": {},
          "execution_count": 84
        }
      ]
    },
    {
      "cell_type": "code",
      "source": [
        "data['work_interfere'].mode()"
      ],
      "metadata": {
        "trusted": true,
        "id": "D9ZXfpBexXex",
        "colab": {
          "base_uri": "https://localhost:8080/"
        },
        "outputId": "164685d5-d491-48db-9967-d7d0147c36a9"
      },
      "execution_count": null,
      "outputs": [
        {
          "output_type": "execute_result",
          "data": {
            "text/plain": [
              "0    Sometimes\n",
              "dtype: object"
            ]
          },
          "metadata": {},
          "execution_count": 85
        }
      ]
    },
    {
      "cell_type": "code",
      "source": [
        "data['work_interfere'] = data['work_interfere'].fillna('Sometimes')"
      ],
      "metadata": {
        "trusted": true,
        "id": "UD3FA9GvxXex"
      },
      "execution_count": null,
      "outputs": []
    },
    {
      "cell_type": "markdown",
      "source": [
        "# Feature Engineering"
      ],
      "metadata": {
        "id": "MXfMwuLLxXey"
      }
    },
    {
      "cell_type": "code",
      "source": [
        "data.isna().sum()"
      ],
      "metadata": {
        "trusted": true,
        "id": "_d7fRFAKxXey",
        "colab": {
          "base_uri": "https://localhost:8080/"
        },
        "outputId": "604df776-7e94-4dae-85f8-726c039a9755"
      },
      "execution_count": null,
      "outputs": [
        {
          "output_type": "execute_result",
          "data": {
            "text/plain": [
              "Timestamp                    0\n",
              "Age                          0\n",
              "Gender                       0\n",
              "City                         0\n",
              "self_employed                0\n",
              "family_history               0\n",
              "treatment                    0\n",
              "work_interfere               0\n",
              "no_employees                 0\n",
              "remote_work                  0\n",
              "tech_company                 0\n",
              "benefits                     0\n",
              "care_options                 0\n",
              "wellness_program             0\n",
              "seek_help                    0\n",
              "anonymity                    0\n",
              "leave                        0\n",
              "mental_health_consequence    0\n",
              "phys_health_consequence      0\n",
              "coworkers                    0\n",
              "supervisor                   0\n",
              "mental_health_interview      0\n",
              "phys_health_interview        0\n",
              "mental_vs_physical           0\n",
              "obs_consequence              0\n",
              "dtype: int64"
            ]
          },
          "metadata": {},
          "execution_count": 87
        }
      ]
    },
    {
      "cell_type": "code",
      "source": [
        "data['Timestamp']"
      ],
      "metadata": {
        "trusted": true,
        "id": "dePY8OlAxXez",
        "colab": {
          "base_uri": "https://localhost:8080/"
        },
        "outputId": "4b783539-73bf-4b1f-ebb8-e33f29e830e1"
      },
      "execution_count": null,
      "outputs": [
        {
          "output_type": "execute_result",
          "data": {
            "text/plain": [
              "0       2014-08-27 11:29:31\n",
              "1       2014-08-27 11:29:37\n",
              "2       2014-08-27 11:29:44\n",
              "3       2014-08-27 11:29:46\n",
              "4       2014-08-27 11:30:22\n",
              "               ...         \n",
              "1254    2015-09-12 11:17:21\n",
              "1255     2015-09-26 1:07:35\n",
              "1256    2015-11-07 12:36:58\n",
              "1257    2015-11-30 21:25:06\n",
              "1258    2016-02-01 23:04:31\n",
              "Name: Timestamp, Length: 1259, dtype: object"
            ]
          },
          "metadata": {},
          "execution_count": 88
        }
      ]
    },
    {
      "cell_type": "code",
      "source": [
        "data['Year'] = data['Timestamp'].apply(lambda x: np.int(x[0:4]))\n",
        "data['Month'] = data['Timestamp'].apply(lambda x: np.int(x[5:7]))\n",
        "data['Day'] = data['Timestamp'].apply(lambda x: np.int(x[8:10]))\n",
        "data['Hour'] = data['Timestamp'].apply(lambda x: np.int(x[11:12]))\n",
        "data['Minute'] = data['Timestamp'].apply(lambda x: np.int(x[14:15]))\n",
        "data['Second'] = data['Timestamp'].apply(lambda x: np.int(x[17:19]))\n",
        "\n",
        "data = data.drop('Timestamp', axis=1)"
      ],
      "metadata": {
        "trusted": true,
        "id": "hqVMxK9bxXez",
        "colab": {
          "base_uri": "https://localhost:8080/"
        },
        "outputId": "d4064264-030c-44f7-c096-c4c501968f2e"
      },
      "execution_count": null,
      "outputs": [
        {
          "output_type": "stream",
          "name": "stderr",
          "text": [
            "/usr/local/lib/python3.7/dist-packages/ipykernel_launcher.py:1: DeprecationWarning: `np.int` is a deprecated alias for the builtin `int`. To silence this warning, use `int` by itself. Doing this will not modify any behavior and is safe. When replacing `np.int`, you may wish to use e.g. `np.int64` or `np.int32` to specify the precision. If you wish to review your current use, check the release note link for additional information.\n",
            "Deprecated in NumPy 1.20; for more details and guidance: https://numpy.org/devdocs/release/1.20.0-notes.html#deprecations\n",
            "  \"\"\"Entry point for launching an IPython kernel.\n",
            "/usr/local/lib/python3.7/dist-packages/ipykernel_launcher.py:2: DeprecationWarning: `np.int` is a deprecated alias for the builtin `int`. To silence this warning, use `int` by itself. Doing this will not modify any behavior and is safe. When replacing `np.int`, you may wish to use e.g. `np.int64` or `np.int32` to specify the precision. If you wish to review your current use, check the release note link for additional information.\n",
            "Deprecated in NumPy 1.20; for more details and guidance: https://numpy.org/devdocs/release/1.20.0-notes.html#deprecations\n",
            "  \n",
            "/usr/local/lib/python3.7/dist-packages/ipykernel_launcher.py:3: DeprecationWarning: `np.int` is a deprecated alias for the builtin `int`. To silence this warning, use `int` by itself. Doing this will not modify any behavior and is safe. When replacing `np.int`, you may wish to use e.g. `np.int64` or `np.int32` to specify the precision. If you wish to review your current use, check the release note link for additional information.\n",
            "Deprecated in NumPy 1.20; for more details and guidance: https://numpy.org/devdocs/release/1.20.0-notes.html#deprecations\n",
            "  This is separate from the ipykernel package so we can avoid doing imports until\n",
            "/usr/local/lib/python3.7/dist-packages/ipykernel_launcher.py:4: DeprecationWarning: `np.int` is a deprecated alias for the builtin `int`. To silence this warning, use `int` by itself. Doing this will not modify any behavior and is safe. When replacing `np.int`, you may wish to use e.g. `np.int64` or `np.int32` to specify the precision. If you wish to review your current use, check the release note link for additional information.\n",
            "Deprecated in NumPy 1.20; for more details and guidance: https://numpy.org/devdocs/release/1.20.0-notes.html#deprecations\n",
            "  after removing the cwd from sys.path.\n",
            "/usr/local/lib/python3.7/dist-packages/ipykernel_launcher.py:5: DeprecationWarning: `np.int` is a deprecated alias for the builtin `int`. To silence this warning, use `int` by itself. Doing this will not modify any behavior and is safe. When replacing `np.int`, you may wish to use e.g. `np.int64` or `np.int32` to specify the precision. If you wish to review your current use, check the release note link for additional information.\n",
            "Deprecated in NumPy 1.20; for more details and guidance: https://numpy.org/devdocs/release/1.20.0-notes.html#deprecations\n",
            "  \"\"\"\n",
            "/usr/local/lib/python3.7/dist-packages/ipykernel_launcher.py:6: DeprecationWarning: `np.int` is a deprecated alias for the builtin `int`. To silence this warning, use `int` by itself. Doing this will not modify any behavior and is safe. When replacing `np.int`, you may wish to use e.g. `np.int64` or `np.int32` to specify the precision. If you wish to review your current use, check the release note link for additional information.\n",
            "Deprecated in NumPy 1.20; for more details and guidance: https://numpy.org/devdocs/release/1.20.0-notes.html#deprecations\n",
            "  \n"
          ]
        }
      ]
    },
    {
      "cell_type": "code",
      "source": [
        "# data['Timestamp']"
      ],
      "metadata": {
        "trusted": true,
        "id": "85s5xvcYxXe0"
      },
      "execution_count": null,
      "outputs": []
    },
    {
      "cell_type": "markdown",
      "source": [
        "# Encoding Features"
      ],
      "metadata": {
        "id": "VB-UOSR5xXe1"
      }
    },
    {
      "cell_type": "code",
      "source": [
        "{column: len(data[column].unique()) for column in data.select_dtypes('object').columns}"
      ],
      "metadata": {
        "trusted": true,
        "id": "3FK4BfAaxXe1",
        "colab": {
          "base_uri": "https://localhost:8080/"
        },
        "outputId": "4886948d-4ad5-4a17-e11b-341789fef60d"
      },
      "execution_count": null,
      "outputs": [
        {
          "output_type": "execute_result",
          "data": {
            "text/plain": [
              "{'City': 46,\n",
              " 'Gender': 49,\n",
              " 'anonymity': 3,\n",
              " 'benefits': 3,\n",
              " 'care_options': 3,\n",
              " 'coworkers': 3,\n",
              " 'family_history': 2,\n",
              " 'leave': 5,\n",
              " 'mental_health_consequence': 3,\n",
              " 'mental_health_interview': 3,\n",
              " 'mental_vs_physical': 3,\n",
              " 'no_employees': 6,\n",
              " 'obs_consequence': 2,\n",
              " 'phys_health_consequence': 3,\n",
              " 'phys_health_interview': 3,\n",
              " 'remote_work': 2,\n",
              " 'seek_help': 3,\n",
              " 'self_employed': 2,\n",
              " 'supervisor': 3,\n",
              " 'tech_company': 2,\n",
              " 'treatment': 2,\n",
              " 'wellness_program': 3,\n",
              " 'work_interfere': 4}"
            ]
          },
          "metadata": {},
          "execution_count": 91
        }
      ]
    },
    {
      "cell_type": "code",
      "source": [
        "{column: list(data[column].unique()) for column in data.select_dtypes('object').columns}"
      ],
      "metadata": {
        "trusted": true,
        "id": "K7Mt535fxXe2",
        "colab": {
          "base_uri": "https://localhost:8080/"
        },
        "outputId": "feb286ec-8d30-48fb-cedf-7f313120fca2"
      },
      "execution_count": null,
      "outputs": [
        {
          "output_type": "execute_result",
          "data": {
            "text/plain": [
              "{'City': ['Dhaka',\n",
              "  'Rajshahi',\n",
              "  'Chittagong',\n",
              "  'Barishal',\n",
              "  'Khulna',\n",
              "  'Pirojpur',\n",
              "  'Noyakhali',\n",
              "  'Shirajgonj',\n",
              "  'Potuakhali',\n",
              "  'Narayangonj',\n",
              "  'Rajbari',\n",
              "  'Modhupur',\n",
              "  'Bagherhat',\n",
              "  'Cumilla',\n",
              "  'Syllet',\n",
              "  'Jossore',\n",
              "  'Dinajpur',\n",
              "  'Moymonsinh',\n",
              "  'Faridpur',\n",
              "  'Bogra',\n",
              "  'Pabna',\n",
              "  'Rangamati',\n",
              "  'Kushtia',\n",
              "  'Rangpur',\n",
              "  'Tangail',\n",
              "  'Panchagarh',\n",
              "  'Vola',\n",
              "  'Bandharban',\n",
              "  'Chandpur',\n",
              "  'Habiganj',\n",
              "  'Barguna',\n",
              "  'Jhalkati',\n",
              "  'Jhenaidah',\n",
              "  'Jhalakathi',\n",
              "  'Magura',\n",
              "  'Lalmonirhat',\n",
              "  'Kurigram',\n",
              "  'Nilphamari',\n",
              "  'Shatkhira',\n",
              "  'Chuadanga',\n",
              "  'Meherpur',\n",
              "  'Joypurhat',\n",
              "  'Natore',\n",
              "  'Feni',\n",
              "  'Sunamganj',\n",
              "  'Gopalganj'],\n",
              " 'Gender': ['Female',\n",
              "  'M',\n",
              "  'Male',\n",
              "  'male',\n",
              "  'female',\n",
              "  'm',\n",
              "  'Male-ish',\n",
              "  'maile',\n",
              "  'Trans-female',\n",
              "  'Cis Female',\n",
              "  'F',\n",
              "  'something kinda male?',\n",
              "  'Cis Male',\n",
              "  'Woman',\n",
              "  'f',\n",
              "  'Mal',\n",
              "  'Male (CIS)',\n",
              "  'queer/she/they',\n",
              "  'non-binary',\n",
              "  'Femake',\n",
              "  'woman',\n",
              "  'Make',\n",
              "  'Nah',\n",
              "  'All',\n",
              "  'Enby',\n",
              "  'fluid',\n",
              "  'Genderqueer',\n",
              "  'Female ',\n",
              "  'Androgyne',\n",
              "  'Agender',\n",
              "  'cis-female/femme',\n",
              "  'Guy (-ish) ^_^',\n",
              "  'male leaning androgynous',\n",
              "  'Male ',\n",
              "  'Man',\n",
              "  'Trans woman',\n",
              "  'msle',\n",
              "  'Neuter',\n",
              "  'Female (trans)',\n",
              "  'queer',\n",
              "  'Female (cis)',\n",
              "  'Mail',\n",
              "  'cis male',\n",
              "  'A little about you',\n",
              "  'Malr',\n",
              "  'p',\n",
              "  'femail',\n",
              "  'Cis Man',\n",
              "  'ostensibly male, unsure what that really means'],\n",
              " 'anonymity': ['Yes', \"Don't know\", 'No'],\n",
              " 'benefits': ['Yes', \"Don't know\", 'No'],\n",
              " 'care_options': ['Not sure', 'No', 'Yes'],\n",
              " 'coworkers': ['Some of them', 'No', 'Yes'],\n",
              " 'family_history': ['No', 'Yes'],\n",
              " 'leave': ['Somewhat easy',\n",
              "  \"Don't know\",\n",
              "  'Somewhat difficult',\n",
              "  'Very difficult',\n",
              "  'Very easy'],\n",
              " 'mental_health_consequence': ['No', 'Maybe', 'Yes'],\n",
              " 'mental_health_interview': ['No', 'Yes', 'Maybe'],\n",
              " 'mental_vs_physical': ['Yes', \"Don't know\", 'No'],\n",
              " 'no_employees': ['6-25',\n",
              "  'More than 1000',\n",
              "  '26-100',\n",
              "  '100-500',\n",
              "  '1-5',\n",
              "  '500-1000'],\n",
              " 'obs_consequence': ['No', 'Yes'],\n",
              " 'phys_health_consequence': ['No', 'Yes', 'Maybe'],\n",
              " 'phys_health_interview': ['Maybe', 'No', 'Yes'],\n",
              " 'remote_work': ['No', 'Yes'],\n",
              " 'seek_help': ['Yes', \"Don't know\", 'No'],\n",
              " 'self_employed': ['No', 'Yes'],\n",
              " 'supervisor': ['Yes', 'No', 'Some of them'],\n",
              " 'tech_company': ['Yes', 'No'],\n",
              " 'treatment': ['Yes', 'No'],\n",
              " 'wellness_program': ['No', \"Don't know\", 'Yes'],\n",
              " 'work_interfere': ['Often', 'Rarely', 'Never', 'Sometimes']}"
            ]
          },
          "metadata": {},
          "execution_count": 92
        }
      ]
    },
    {
      "cell_type": "code",
      "source": [
        "def encode_gender(x):\n",
        "    if x.lower()[0] == 'f':\n",
        "        return 0\n",
        "    elif x.lower()[0] == 'm':\n",
        "        return 1\n",
        "    else:\n",
        "        return 2"
      ],
      "metadata": {
        "trusted": true,
        "id": "D7tLSYtSxXe2"
      },
      "execution_count": null,
      "outputs": []
    },
    {
      "cell_type": "code",
      "source": [
        "data['Gender'] = data['Gender'].apply(encode_gender)"
      ],
      "metadata": {
        "trusted": true,
        "id": "OpsXlAX7xXe3"
      },
      "execution_count": null,
      "outputs": []
    },
    {
      "cell_type": "code",
      "source": [
        "data['Gender']"
      ],
      "metadata": {
        "colab": {
          "base_uri": "https://localhost:8080/"
        },
        "id": "49XR2IR724Ah",
        "outputId": "b5faa624-a553-4322-841d-9a64a4cab68c"
      },
      "execution_count": null,
      "outputs": [
        {
          "output_type": "execute_result",
          "data": {
            "text/plain": [
              "0       0\n",
              "1       1\n",
              "2       1\n",
              "3       1\n",
              "4       1\n",
              "       ..\n",
              "1254    1\n",
              "1255    1\n",
              "1256    1\n",
              "1257    0\n",
              "1258    1\n",
              "Name: Gender, Length: 1259, dtype: int64"
            ]
          },
          "metadata": {},
          "execution_count": 95
        }
      ]
    },
    {
      "cell_type": "code",
      "source": [
        "target = 'treatment'\n",
        "\n",
        "binary_features = [\n",
        "    'self_employed',\n",
        "    'family_history',\n",
        "    'remote_work',\n",
        "    'tech_company',\n",
        "    'obs_consequence'\n",
        "]\n",
        "\n",
        "ordinal_features = [\n",
        "    'work_interfere',\n",
        "    'no_employees'\n",
        "]\n",
        "\n",
        "nominal_features = [\n",
        "    'City',\n",
        "    'benefits',\n",
        "    'care_options',\n",
        "    'wellness_program',\n",
        "    'seek_help',\n",
        "    'anonymity',\n",
        "    'leave',\n",
        "    'mental_health_consequence',\n",
        "    'phys_health_consequence',\n",
        "    'coworkers',\n",
        "    'supervisor',\n",
        "    'mental_health_interview',\n",
        "    'phys_health_interview',\n",
        "    'mental_vs_physical'\n",
        "]"
      ],
      "metadata": {
        "trusted": true,
        "id": "3oZi6fZ2xXe3"
      },
      "execution_count": null,
      "outputs": []
    },
    {
      "cell_type": "code",
      "source": [
        "def binary_encode(df, columns, positive_values):\n",
        "    df = df.copy()\n",
        "    for column, positive_value in zip(columns, positive_values):\n",
        "        df[column] = df[column].apply(lambda x: 1 if x == positive_value else 0)\n",
        "    return df\n",
        "\n",
        "def ordinal_encode(df, columns, orderings):\n",
        "    df = df.copy()\n",
        "    for column, ordering in zip(columns, orderings):\n",
        "        df[column] = df[column].apply(lambda x: ordering.index(x))\n",
        "    return df\n",
        "\n",
        "def onehot_encode(df, columns, prefixes):\n",
        "    df = df.copy()\n",
        "    for column, prefix in zip(columns, prefixes):\n",
        "        dummies = pd.get_dummies(df[column], prefix)\n",
        "        df = pd.concat([df, dummies], axis=1)\n",
        "        df = df.drop(column, axis=1)\n",
        "    return df"
      ],
      "metadata": {
        "trusted": true,
        "id": "F1BnHq6jxXe4"
      },
      "execution_count": null,
      "outputs": []
    },
    {
      "cell_type": "code",
      "source": [
        "binary_positive_values = ['Yes' for feature in binary_features]\n",
        "\n",
        "ordinal_orderings = [\n",
        "    ['Never', 'Rarely', 'Sometimes', 'Often'],\n",
        "    ['1-5', '6-25', '26-100', '100-500', '500-1000', 'More than 1000']\n",
        "]\n",
        "\n",
        "nominal_prefixes = [\n",
        "    'co',\n",
        "    'st',\n",
        "    're',\n",
        "    'be',\n",
        "    'ca',\n",
        "    'we',\n",
        "    'se',\n",
        "    'an',\n",
        "    'le',\n",
        "    'mc',\n",
        "    'ph',\n",
        "    'cw',\n",
        "    'su',\n",
        "    'mi',\n",
        "    'pi',\n",
        "    'mp'\n",
        "]"
      ],
      "metadata": {
        "trusted": true,
        "id": "pblhNVwJxXe4"
      },
      "execution_count": null,
      "outputs": []
    },
    {
      "cell_type": "code",
      "source": [
        "data = binary_encode(\n",
        "    data,\n",
        "    columns=binary_features,\n",
        "    positive_values=binary_positive_values\n",
        ")\n",
        "\n",
        "data = ordinal_encode(\n",
        "    data,\n",
        "    columns=ordinal_features,\n",
        "    orderings=ordinal_orderings\n",
        ")\n",
        "\n",
        "data = onehot_encode(\n",
        "    data,\n",
        "    columns=nominal_features,\n",
        "    prefixes=nominal_prefixes\n",
        ")"
      ],
      "metadata": {
        "trusted": true,
        "id": "UhJKCVCWxXe4"
      },
      "execution_count": null,
      "outputs": []
    },
    {
      "cell_type": "code",
      "source": [
        "data"
      ],
      "metadata": {
        "trusted": true,
        "id": "78GIBT9CxXe5",
        "colab": {
          "base_uri": "https://localhost:8080/",
          "height": 505
        },
        "outputId": "277dbf1c-2658-4579-ff89-10f5f3257c54"
      },
      "execution_count": null,
      "outputs": [
        {
          "output_type": "execute_result",
          "data": {
            "text/plain": [
              "      Age  Gender  self_employed  family_history treatment  work_interfere  \\\n",
              "0      27       0              0               0       Yes               3   \n",
              "1      22       1              0               0        No               1   \n",
              "2      22       1              0               0        No               1   \n",
              "3      21       1              0               1       Yes               3   \n",
              "4      21       1              0               0        No               0   \n",
              "...   ...     ...            ...             ...       ...             ...   \n",
              "1254   26       1              0               0       Yes               2   \n",
              "1255   22       1              0               1       Yes               3   \n",
              "1256   22       1              0               1       Yes               2   \n",
              "1257   26       0              0               0        No               2   \n",
              "1258   25       1              0               1       Yes               2   \n",
              "\n",
              "      no_employees  remote_work  tech_company  obs_consequence  ...  ph_Yes  \\\n",
              "0                1            0             1                0  ...       1   \n",
              "1                5            0             0                0  ...       0   \n",
              "2                1            0             1                0  ...       1   \n",
              "3                2            0             1                1  ...       0   \n",
              "4                3            1             1                0  ...       1   \n",
              "...            ...          ...           ...              ...  ...     ...   \n",
              "1254             2            0             1                0  ...       0   \n",
              "1255             2            1             1                0  ...       1   \n",
              "1256             5            0             1                0  ...       0   \n",
              "1257             3            1             1                0  ...       0   \n",
              "1258             2            0             0                0  ...       0   \n",
              "\n",
              "      cw_Maybe  cw_No  cw_Yes  su_Maybe  su_No  su_Yes  mi_Don't know  mi_No  \\\n",
              "0            0      1       0         1      0       0              0      0   \n",
              "1            0      1       0         0      1       0              1      0   \n",
              "2            0      0       1         0      0       1              0      1   \n",
              "3            1      0       0         1      0       0              0      1   \n",
              "4            0      0       1         0      0       1              1      0   \n",
              "...        ...    ...     ...       ...    ...     ...            ...    ...   \n",
              "1254         0      1       0         0      1       0              1      0   \n",
              "1255         0      1       0         0      1       0              0      0   \n",
              "1256         0      1       0         0      1       0              0      1   \n",
              "1257         0      1       0         0      1       0              0      1   \n",
              "1258         0      1       0         0      1       0              1      0   \n",
              "\n",
              "      mi_Yes  \n",
              "0          1  \n",
              "1          0  \n",
              "2          0  \n",
              "3          0  \n",
              "4          0  \n",
              "...      ...  \n",
              "1254       0  \n",
              "1255       1  \n",
              "1256       0  \n",
              "1257       0  \n",
              "1258       0  \n",
              "\n",
              "[1259 rows x 103 columns]"
            ],
            "text/html": [
              "\n",
              "  <div id=\"df-efa2d0e3-99de-4368-8ef7-6967713d63cf\">\n",
              "    <div class=\"colab-df-container\">\n",
              "      <div>\n",
              "<style scoped>\n",
              "    .dataframe tbody tr th:only-of-type {\n",
              "        vertical-align: middle;\n",
              "    }\n",
              "\n",
              "    .dataframe tbody tr th {\n",
              "        vertical-align: top;\n",
              "    }\n",
              "\n",
              "    .dataframe thead th {\n",
              "        text-align: right;\n",
              "    }\n",
              "</style>\n",
              "<table border=\"1\" class=\"dataframe\">\n",
              "  <thead>\n",
              "    <tr style=\"text-align: right;\">\n",
              "      <th></th>\n",
              "      <th>Age</th>\n",
              "      <th>Gender</th>\n",
              "      <th>self_employed</th>\n",
              "      <th>family_history</th>\n",
              "      <th>treatment</th>\n",
              "      <th>work_interfere</th>\n",
              "      <th>no_employees</th>\n",
              "      <th>remote_work</th>\n",
              "      <th>tech_company</th>\n",
              "      <th>obs_consequence</th>\n",
              "      <th>...</th>\n",
              "      <th>ph_Yes</th>\n",
              "      <th>cw_Maybe</th>\n",
              "      <th>cw_No</th>\n",
              "      <th>cw_Yes</th>\n",
              "      <th>su_Maybe</th>\n",
              "      <th>su_No</th>\n",
              "      <th>su_Yes</th>\n",
              "      <th>mi_Don't know</th>\n",
              "      <th>mi_No</th>\n",
              "      <th>mi_Yes</th>\n",
              "    </tr>\n",
              "  </thead>\n",
              "  <tbody>\n",
              "    <tr>\n",
              "      <th>0</th>\n",
              "      <td>27</td>\n",
              "      <td>0</td>\n",
              "      <td>0</td>\n",
              "      <td>0</td>\n",
              "      <td>Yes</td>\n",
              "      <td>3</td>\n",
              "      <td>1</td>\n",
              "      <td>0</td>\n",
              "      <td>1</td>\n",
              "      <td>0</td>\n",
              "      <td>...</td>\n",
              "      <td>1</td>\n",
              "      <td>0</td>\n",
              "      <td>1</td>\n",
              "      <td>0</td>\n",
              "      <td>1</td>\n",
              "      <td>0</td>\n",
              "      <td>0</td>\n",
              "      <td>0</td>\n",
              "      <td>0</td>\n",
              "      <td>1</td>\n",
              "    </tr>\n",
              "    <tr>\n",
              "      <th>1</th>\n",
              "      <td>22</td>\n",
              "      <td>1</td>\n",
              "      <td>0</td>\n",
              "      <td>0</td>\n",
              "      <td>No</td>\n",
              "      <td>1</td>\n",
              "      <td>5</td>\n",
              "      <td>0</td>\n",
              "      <td>0</td>\n",
              "      <td>0</td>\n",
              "      <td>...</td>\n",
              "      <td>0</td>\n",
              "      <td>0</td>\n",
              "      <td>1</td>\n",
              "      <td>0</td>\n",
              "      <td>0</td>\n",
              "      <td>1</td>\n",
              "      <td>0</td>\n",
              "      <td>1</td>\n",
              "      <td>0</td>\n",
              "      <td>0</td>\n",
              "    </tr>\n",
              "    <tr>\n",
              "      <th>2</th>\n",
              "      <td>22</td>\n",
              "      <td>1</td>\n",
              "      <td>0</td>\n",
              "      <td>0</td>\n",
              "      <td>No</td>\n",
              "      <td>1</td>\n",
              "      <td>1</td>\n",
              "      <td>0</td>\n",
              "      <td>1</td>\n",
              "      <td>0</td>\n",
              "      <td>...</td>\n",
              "      <td>1</td>\n",
              "      <td>0</td>\n",
              "      <td>0</td>\n",
              "      <td>1</td>\n",
              "      <td>0</td>\n",
              "      <td>0</td>\n",
              "      <td>1</td>\n",
              "      <td>0</td>\n",
              "      <td>1</td>\n",
              "      <td>0</td>\n",
              "    </tr>\n",
              "    <tr>\n",
              "      <th>3</th>\n",
              "      <td>21</td>\n",
              "      <td>1</td>\n",
              "      <td>0</td>\n",
              "      <td>1</td>\n",
              "      <td>Yes</td>\n",
              "      <td>3</td>\n",
              "      <td>2</td>\n",
              "      <td>0</td>\n",
              "      <td>1</td>\n",
              "      <td>1</td>\n",
              "      <td>...</td>\n",
              "      <td>0</td>\n",
              "      <td>1</td>\n",
              "      <td>0</td>\n",
              "      <td>0</td>\n",
              "      <td>1</td>\n",
              "      <td>0</td>\n",
              "      <td>0</td>\n",
              "      <td>0</td>\n",
              "      <td>1</td>\n",
              "      <td>0</td>\n",
              "    </tr>\n",
              "    <tr>\n",
              "      <th>4</th>\n",
              "      <td>21</td>\n",
              "      <td>1</td>\n",
              "      <td>0</td>\n",
              "      <td>0</td>\n",
              "      <td>No</td>\n",
              "      <td>0</td>\n",
              "      <td>3</td>\n",
              "      <td>1</td>\n",
              "      <td>1</td>\n",
              "      <td>0</td>\n",
              "      <td>...</td>\n",
              "      <td>1</td>\n",
              "      <td>0</td>\n",
              "      <td>0</td>\n",
              "      <td>1</td>\n",
              "      <td>0</td>\n",
              "      <td>0</td>\n",
              "      <td>1</td>\n",
              "      <td>1</td>\n",
              "      <td>0</td>\n",
              "      <td>0</td>\n",
              "    </tr>\n",
              "    <tr>\n",
              "      <th>...</th>\n",
              "      <td>...</td>\n",
              "      <td>...</td>\n",
              "      <td>...</td>\n",
              "      <td>...</td>\n",
              "      <td>...</td>\n",
              "      <td>...</td>\n",
              "      <td>...</td>\n",
              "      <td>...</td>\n",
              "      <td>...</td>\n",
              "      <td>...</td>\n",
              "      <td>...</td>\n",
              "      <td>...</td>\n",
              "      <td>...</td>\n",
              "      <td>...</td>\n",
              "      <td>...</td>\n",
              "      <td>...</td>\n",
              "      <td>...</td>\n",
              "      <td>...</td>\n",
              "      <td>...</td>\n",
              "      <td>...</td>\n",
              "      <td>...</td>\n",
              "    </tr>\n",
              "    <tr>\n",
              "      <th>1254</th>\n",
              "      <td>26</td>\n",
              "      <td>1</td>\n",
              "      <td>0</td>\n",
              "      <td>0</td>\n",
              "      <td>Yes</td>\n",
              "      <td>2</td>\n",
              "      <td>2</td>\n",
              "      <td>0</td>\n",
              "      <td>1</td>\n",
              "      <td>0</td>\n",
              "      <td>...</td>\n",
              "      <td>0</td>\n",
              "      <td>0</td>\n",
              "      <td>1</td>\n",
              "      <td>0</td>\n",
              "      <td>0</td>\n",
              "      <td>1</td>\n",
              "      <td>0</td>\n",
              "      <td>1</td>\n",
              "      <td>0</td>\n",
              "      <td>0</td>\n",
              "    </tr>\n",
              "    <tr>\n",
              "      <th>1255</th>\n",
              "      <td>22</td>\n",
              "      <td>1</td>\n",
              "      <td>0</td>\n",
              "      <td>1</td>\n",
              "      <td>Yes</td>\n",
              "      <td>3</td>\n",
              "      <td>2</td>\n",
              "      <td>1</td>\n",
              "      <td>1</td>\n",
              "      <td>0</td>\n",
              "      <td>...</td>\n",
              "      <td>1</td>\n",
              "      <td>0</td>\n",
              "      <td>1</td>\n",
              "      <td>0</td>\n",
              "      <td>0</td>\n",
              "      <td>1</td>\n",
              "      <td>0</td>\n",
              "      <td>0</td>\n",
              "      <td>0</td>\n",
              "      <td>1</td>\n",
              "    </tr>\n",
              "    <tr>\n",
              "      <th>1256</th>\n",
              "      <td>22</td>\n",
              "      <td>1</td>\n",
              "      <td>0</td>\n",
              "      <td>1</td>\n",
              "      <td>Yes</td>\n",
              "      <td>2</td>\n",
              "      <td>5</td>\n",
              "      <td>0</td>\n",
              "      <td>1</td>\n",
              "      <td>0</td>\n",
              "      <td>...</td>\n",
              "      <td>0</td>\n",
              "      <td>0</td>\n",
              "      <td>1</td>\n",
              "      <td>0</td>\n",
              "      <td>0</td>\n",
              "      <td>1</td>\n",
              "      <td>0</td>\n",
              "      <td>0</td>\n",
              "      <td>1</td>\n",
              "      <td>0</td>\n",
              "    </tr>\n",
              "    <tr>\n",
              "      <th>1257</th>\n",
              "      <td>26</td>\n",
              "      <td>0</td>\n",
              "      <td>0</td>\n",
              "      <td>0</td>\n",
              "      <td>No</td>\n",
              "      <td>2</td>\n",
              "      <td>3</td>\n",
              "      <td>1</td>\n",
              "      <td>1</td>\n",
              "      <td>0</td>\n",
              "      <td>...</td>\n",
              "      <td>0</td>\n",
              "      <td>0</td>\n",
              "      <td>1</td>\n",
              "      <td>0</td>\n",
              "      <td>0</td>\n",
              "      <td>1</td>\n",
              "      <td>0</td>\n",
              "      <td>0</td>\n",
              "      <td>1</td>\n",
              "      <td>0</td>\n",
              "    </tr>\n",
              "    <tr>\n",
              "      <th>1258</th>\n",
              "      <td>25</td>\n",
              "      <td>1</td>\n",
              "      <td>0</td>\n",
              "      <td>1</td>\n",
              "      <td>Yes</td>\n",
              "      <td>2</td>\n",
              "      <td>2</td>\n",
              "      <td>0</td>\n",
              "      <td>0</td>\n",
              "      <td>0</td>\n",
              "      <td>...</td>\n",
              "      <td>0</td>\n",
              "      <td>0</td>\n",
              "      <td>1</td>\n",
              "      <td>0</td>\n",
              "      <td>0</td>\n",
              "      <td>1</td>\n",
              "      <td>0</td>\n",
              "      <td>1</td>\n",
              "      <td>0</td>\n",
              "      <td>0</td>\n",
              "    </tr>\n",
              "  </tbody>\n",
              "</table>\n",
              "<p>1259 rows × 103 columns</p>\n",
              "</div>\n",
              "      <button class=\"colab-df-convert\" onclick=\"convertToInteractive('df-efa2d0e3-99de-4368-8ef7-6967713d63cf')\"\n",
              "              title=\"Convert this dataframe to an interactive table.\"\n",
              "              style=\"display:none;\">\n",
              "        \n",
              "  <svg xmlns=\"http://www.w3.org/2000/svg\" height=\"24px\"viewBox=\"0 0 24 24\"\n",
              "       width=\"24px\">\n",
              "    <path d=\"M0 0h24v24H0V0z\" fill=\"none\"/>\n",
              "    <path d=\"M18.56 5.44l.94 2.06.94-2.06 2.06-.94-2.06-.94-.94-2.06-.94 2.06-2.06.94zm-11 1L8.5 8.5l.94-2.06 2.06-.94-2.06-.94L8.5 2.5l-.94 2.06-2.06.94zm10 10l.94 2.06.94-2.06 2.06-.94-2.06-.94-.94-2.06-.94 2.06-2.06.94z\"/><path d=\"M17.41 7.96l-1.37-1.37c-.4-.4-.92-.59-1.43-.59-.52 0-1.04.2-1.43.59L10.3 9.45l-7.72 7.72c-.78.78-.78 2.05 0 2.83L4 21.41c.39.39.9.59 1.41.59.51 0 1.02-.2 1.41-.59l7.78-7.78 2.81-2.81c.8-.78.8-2.07 0-2.86zM5.41 20L4 18.59l7.72-7.72 1.47 1.35L5.41 20z\"/>\n",
              "  </svg>\n",
              "      </button>\n",
              "      \n",
              "  <style>\n",
              "    .colab-df-container {\n",
              "      display:flex;\n",
              "      flex-wrap:wrap;\n",
              "      gap: 12px;\n",
              "    }\n",
              "\n",
              "    .colab-df-convert {\n",
              "      background-color: #E8F0FE;\n",
              "      border: none;\n",
              "      border-radius: 50%;\n",
              "      cursor: pointer;\n",
              "      display: none;\n",
              "      fill: #1967D2;\n",
              "      height: 32px;\n",
              "      padding: 0 0 0 0;\n",
              "      width: 32px;\n",
              "    }\n",
              "\n",
              "    .colab-df-convert:hover {\n",
              "      background-color: #E2EBFA;\n",
              "      box-shadow: 0px 1px 2px rgba(60, 64, 67, 0.3), 0px 1px 3px 1px rgba(60, 64, 67, 0.15);\n",
              "      fill: #174EA6;\n",
              "    }\n",
              "\n",
              "    [theme=dark] .colab-df-convert {\n",
              "      background-color: #3B4455;\n",
              "      fill: #D2E3FC;\n",
              "    }\n",
              "\n",
              "    [theme=dark] .colab-df-convert:hover {\n",
              "      background-color: #434B5C;\n",
              "      box-shadow: 0px 1px 3px 1px rgba(0, 0, 0, 0.15);\n",
              "      filter: drop-shadow(0px 1px 2px rgba(0, 0, 0, 0.3));\n",
              "      fill: #FFFFFF;\n",
              "    }\n",
              "  </style>\n",
              "\n",
              "      <script>\n",
              "        const buttonEl =\n",
              "          document.querySelector('#df-efa2d0e3-99de-4368-8ef7-6967713d63cf button.colab-df-convert');\n",
              "        buttonEl.style.display =\n",
              "          google.colab.kernel.accessAllowed ? 'block' : 'none';\n",
              "\n",
              "        async function convertToInteractive(key) {\n",
              "          const element = document.querySelector('#df-efa2d0e3-99de-4368-8ef7-6967713d63cf');\n",
              "          const dataTable =\n",
              "            await google.colab.kernel.invokeFunction('convertToInteractive',\n",
              "                                                     [key], {});\n",
              "          if (!dataTable) return;\n",
              "\n",
              "          const docLinkHtml = 'Like what you see? Visit the ' +\n",
              "            '<a target=\"_blank\" href=https://colab.research.google.com/notebooks/data_table.ipynb>data table notebook</a>'\n",
              "            + ' to learn more about interactive tables.';\n",
              "          element.innerHTML = '';\n",
              "          dataTable['output_type'] = 'display_data';\n",
              "          await google.colab.output.renderOutput(dataTable, element);\n",
              "          const docLink = document.createElement('div');\n",
              "          docLink.innerHTML = docLinkHtml;\n",
              "          element.appendChild(docLink);\n",
              "        }\n",
              "      </script>\n",
              "    </div>\n",
              "  </div>\n",
              "  "
            ]
          },
          "metadata": {},
          "execution_count": 100
        }
      ]
    },
    {
      "cell_type": "markdown",
      "source": [
        "# Encoding Labels"
      ],
      "metadata": {
        "id": "gm-2WnmKxXe5"
      }
    },
    {
      "cell_type": "code",
      "source": [
        "data = binary_encode(data, columns=['treatment'], positive_values=['Yes'])"
      ],
      "metadata": {
        "trusted": true,
        "id": "1CMtHs2VxXe6"
      },
      "execution_count": null,
      "outputs": []
    },
    {
      "cell_type": "code",
      "source": [
        "data['treatment']"
      ],
      "metadata": {
        "colab": {
          "base_uri": "https://localhost:8080/"
        },
        "id": "OZv9MiBS5X2n",
        "outputId": "e45b2656-f037-4896-f4b6-1d820de5f9f8"
      },
      "execution_count": null,
      "outputs": [
        {
          "output_type": "execute_result",
          "data": {
            "text/plain": [
              "0       1\n",
              "1       0\n",
              "2       0\n",
              "3       1\n",
              "4       0\n",
              "       ..\n",
              "1254    1\n",
              "1255    1\n",
              "1256    1\n",
              "1257    0\n",
              "1258    1\n",
              "Name: treatment, Length: 1259, dtype: int64"
            ]
          },
          "metadata": {},
          "execution_count": 102
        }
      ]
    },
    {
      "cell_type": "code",
      "source": [
        "print(\"Remaining non-numeric columns:\", len(data.select_dtypes('object').columns))"
      ],
      "metadata": {
        "trusted": true,
        "id": "2lmhKTNBxXe7",
        "colab": {
          "base_uri": "https://localhost:8080/"
        },
        "outputId": "f7fa4e37-f1a4-4e61-e831-bac82c02675a"
      },
      "execution_count": null,
      "outputs": [
        {
          "output_type": "stream",
          "name": "stdout",
          "text": [
            "Remaining non-numeric columns: 0\n"
          ]
        }
      ]
    },
    {
      "cell_type": "code",
      "source": [
        "print(\"Remaining missing values:\", data.isna().sum().sum())"
      ],
      "metadata": {
        "trusted": true,
        "id": "5SM4L1yoxXe7",
        "colab": {
          "base_uri": "https://localhost:8080/"
        },
        "outputId": "c12c9bf2-c886-4f2e-d0fd-6712c54472b0"
      },
      "execution_count": null,
      "outputs": [
        {
          "output_type": "stream",
          "name": "stdout",
          "text": [
            "Remaining missing values: 0\n"
          ]
        }
      ]
    },
    {
      "cell_type": "markdown",
      "source": [
        "# Splitting/Scaling"
      ],
      "metadata": {
        "id": "UgV_NNAGxXe8"
      }
    },
    {
      "cell_type": "code",
      "source": [
        "y = data['treatment'].copy()\n",
        "X = data.drop('treatment', axis=1).copy()"
      ],
      "metadata": {
        "trusted": true,
        "id": "1NKBOYA6xXe8"
      },
      "execution_count": null,
      "outputs": []
    },
    {
      "cell_type": "code",
      "source": [
        "scaler = StandardScaler()\n",
        "\n",
        "X = scaler.fit_transform(X)"
      ],
      "metadata": {
        "trusted": true,
        "id": "HtSmGf2_xXe8"
      },
      "execution_count": null,
      "outputs": []
    },
    {
      "cell_type": "code",
      "source": [
        "X_train, X_test, y_train, y_test = train_test_split(X, y, train_size=0.9, random_state=100)"
      ],
      "metadata": {
        "trusted": true,
        "id": "mMi5yU5bxXe9"
      },
      "execution_count": null,
      "outputs": []
    },
    {
      "cell_type": "markdown",
      "source": [
        "# Training"
      ],
      "metadata": {
        "id": "ul4JSnSyxXe9"
      }
    },
    {
      "cell_type": "code",
      "source": [
        "X.shape"
      ],
      "metadata": {
        "trusted": true,
        "id": "Rzr7BjEQxXe9",
        "colab": {
          "base_uri": "https://localhost:8080/"
        },
        "outputId": "858c6b8a-f6ee-42e5-d642-99d02ae667f8"
      },
      "execution_count": null,
      "outputs": [
        {
          "output_type": "execute_result",
          "data": {
            "text/plain": [
              "(1259, 102)"
            ]
          },
          "metadata": {},
          "execution_count": 108
        }
      ]
    },
    {
      "cell_type": "code",
      "source": [
        "print(\"Class Distribution (Positive to Negative): {:.1f}% / {:.1f}%\".format(y_train.mean() * 100, (1 - y_train.mean()) * 100))"
      ],
      "metadata": {
        "trusted": true,
        "id": "PRAguAo1xXe9",
        "colab": {
          "base_uri": "https://localhost:8080/"
        },
        "outputId": "fcbe2910-0a38-4d68-9d51-e8619bdc5c8f"
      },
      "execution_count": null,
      "outputs": [
        {
          "output_type": "stream",
          "name": "stdout",
          "text": [
            "Class Distribution (Positive to Negative): 50.5% / 49.5%\n"
          ]
        }
      ]
    },
    {
      "cell_type": "code",
      "source": [
        "y_train.mean()"
      ],
      "metadata": {
        "colab": {
          "base_uri": "https://localhost:8080/"
        },
        "id": "y_QFwKQeyrTH",
        "outputId": "73901900-4744-4938-f9cb-aa4e67280679"
      },
      "execution_count": null,
      "outputs": [
        {
          "output_type": "execute_result",
          "data": {
            "text/plain": [
              "0.5048543689320388"
            ]
          },
          "metadata": {},
          "execution_count": 110
        }
      ]
    },
    {
      "cell_type": "code",
      "source": [
        "inputs = tf.keras.Input(shape=(X.shape[1],))\n",
        "x = tf.keras.layers.Dense(1024, activation='relu')(inputs)\n",
        "x = tf.keras.layers.Dense(1024, activation='relu')(x)\n",
        "outputs = tf.keras.layers.Dense(1, activation='sigmoid')(x)\n",
        "\n",
        "model = tf.keras.Model(inputs, outputs)\n",
        "\n",
        "\n",
        "model.compile(\n",
        "    optimizer='adam',\n",
        "    loss='binary_crossentropy',\n",
        "    metrics=[\n",
        "        'accuracy',\n",
        "        tf.keras.metrics.AUC(name='auc')\n",
        "    ]\n",
        ")\n",
        "\n",
        "\n",
        "batch_size = 64\n",
        "epochs = 50\n",
        "\n",
        "history = model.fit(\n",
        "    X_train,\n",
        "    y_train,\n",
        "    validation_split=0.2,\n",
        "    batch_size=batch_size,\n",
        "    epochs=epochs,\n",
        "    callbacks=[\n",
        "        tf.keras.callbacks.ReduceLROnPlateau()\n",
        "    ]\n",
        ")"
      ],
      "metadata": {
        "trusted": true,
        "id": "84gl62iGxXe-",
        "colab": {
          "base_uri": "https://localhost:8080/"
        },
        "outputId": "d83fa63e-6937-42b2-87da-5860a8411da7"
      },
      "execution_count": null,
      "outputs": [
        {
          "output_type": "stream",
          "name": "stdout",
          "text": [
            "Epoch 1/50\n",
            "15/15 [==============================] - 1s 55ms/step - loss: 0.6114 - accuracy: 0.6678 - auc: 0.7407 - val_loss: 0.7032 - val_accuracy: 0.6784 - val_auc: 0.7310 - lr: 0.0010\n",
            "Epoch 2/50\n",
            "15/15 [==============================] - 0s 25ms/step - loss: 0.4685 - accuracy: 0.7848 - auc: 0.8620 - val_loss: 0.6990 - val_accuracy: 0.6696 - val_auc: 0.7316 - lr: 0.0010\n",
            "Epoch 3/50\n",
            "15/15 [==============================] - 0s 24ms/step - loss: 0.3909 - accuracy: 0.8300 - auc: 0.9064 - val_loss: 0.7419 - val_accuracy: 0.6388 - val_auc: 0.7225 - lr: 0.0010\n",
            "Epoch 4/50\n",
            "15/15 [==============================] - 0s 22ms/step - loss: 0.3218 - accuracy: 0.8543 - auc: 0.9384 - val_loss: 0.8129 - val_accuracy: 0.6211 - val_auc: 0.7003 - lr: 0.0010\n",
            "Epoch 5/50\n",
            "15/15 [==============================] - 0s 24ms/step - loss: 0.2675 - accuracy: 0.8996 - auc: 0.9608 - val_loss: 0.9440 - val_accuracy: 0.5991 - val_auc: 0.6815 - lr: 0.0010\n",
            "Epoch 6/50\n",
            "15/15 [==============================] - 0s 23ms/step - loss: 0.2378 - accuracy: 0.9084 - auc: 0.9689 - val_loss: 0.9499 - val_accuracy: 0.6388 - val_auc: 0.6979 - lr: 0.0010\n",
            "Epoch 7/50\n",
            "15/15 [==============================] - 0s 22ms/step - loss: 0.1913 - accuracy: 0.9294 - auc: 0.9820 - val_loss: 0.9753 - val_accuracy: 0.6344 - val_auc: 0.7017 - lr: 0.0010\n",
            "Epoch 8/50\n",
            "15/15 [==============================] - 0s 23ms/step - loss: 0.1396 - accuracy: 0.9547 - auc: 0.9926 - val_loss: 1.1951 - val_accuracy: 0.6123 - val_auc: 0.6950 - lr: 0.0010\n",
            "Epoch 9/50\n",
            "15/15 [==============================] - 0s 23ms/step - loss: 0.1629 - accuracy: 0.9492 - auc: 0.9850 - val_loss: 1.2512 - val_accuracy: 0.6476 - val_auc: 0.6997 - lr: 0.0010\n",
            "Epoch 10/50\n",
            "15/15 [==============================] - 0s 23ms/step - loss: 0.1001 - accuracy: 0.9647 - auc: 0.9955 - val_loss: 1.2722 - val_accuracy: 0.6211 - val_auc: 0.6904 - lr: 0.0010\n",
            "Epoch 11/50\n",
            "15/15 [==============================] - 0s 24ms/step - loss: 0.0646 - accuracy: 0.9879 - auc: 0.9989 - val_loss: 1.3455 - val_accuracy: 0.6652 - val_auc: 0.7070 - lr: 0.0010\n",
            "Epoch 12/50\n",
            "15/15 [==============================] - 0s 24ms/step - loss: 0.0509 - accuracy: 0.9912 - auc: 0.9994 - val_loss: 1.4528 - val_accuracy: 0.6476 - val_auc: 0.7006 - lr: 0.0010\n",
            "Epoch 13/50\n",
            "15/15 [==============================] - 0s 22ms/step - loss: 0.0309 - accuracy: 0.9978 - auc: 1.0000 - val_loss: 1.4667 - val_accuracy: 0.6564 - val_auc: 0.6949 - lr: 1.0000e-04\n",
            "Epoch 14/50\n",
            "15/15 [==============================] - 0s 24ms/step - loss: 0.0245 - accuracy: 1.0000 - auc: 1.0000 - val_loss: 1.4901 - val_accuracy: 0.6388 - val_auc: 0.6923 - lr: 1.0000e-04\n",
            "Epoch 15/50\n",
            "15/15 [==============================] - 0s 23ms/step - loss: 0.0218 - accuracy: 0.9989 - auc: 1.0000 - val_loss: 1.4974 - val_accuracy: 0.6432 - val_auc: 0.6934 - lr: 1.0000e-04\n",
            "Epoch 16/50\n",
            "15/15 [==============================] - 0s 23ms/step - loss: 0.0205 - accuracy: 0.9989 - auc: 1.0000 - val_loss: 1.5121 - val_accuracy: 0.6388 - val_auc: 0.6968 - lr: 1.0000e-04\n",
            "Epoch 17/50\n",
            "15/15 [==============================] - 0s 23ms/step - loss: 0.0196 - accuracy: 0.9989 - auc: 1.0000 - val_loss: 1.5233 - val_accuracy: 0.6476 - val_auc: 0.6985 - lr: 1.0000e-04\n",
            "Epoch 18/50\n",
            "15/15 [==============================] - 0s 22ms/step - loss: 0.0187 - accuracy: 0.9989 - auc: 1.0000 - val_loss: 1.5407 - val_accuracy: 0.6432 - val_auc: 0.6973 - lr: 1.0000e-04\n",
            "Epoch 19/50\n",
            "15/15 [==============================] - 0s 22ms/step - loss: 0.0178 - accuracy: 1.0000 - auc: 1.0000 - val_loss: 1.5501 - val_accuracy: 0.6476 - val_auc: 0.6972 - lr: 1.0000e-04\n",
            "Epoch 20/50\n",
            "15/15 [==============================] - 0s 23ms/step - loss: 0.0171 - accuracy: 1.0000 - auc: 1.0000 - val_loss: 1.5674 - val_accuracy: 0.6388 - val_auc: 0.6960 - lr: 1.0000e-04\n",
            "Epoch 21/50\n",
            "15/15 [==============================] - 0s 22ms/step - loss: 0.0165 - accuracy: 1.0000 - auc: 1.0000 - val_loss: 1.5764 - val_accuracy: 0.6344 - val_auc: 0.6974 - lr: 1.0000e-04\n",
            "Epoch 22/50\n",
            "15/15 [==============================] - 0s 23ms/step - loss: 0.0157 - accuracy: 1.0000 - auc: 1.0000 - val_loss: 1.5890 - val_accuracy: 0.6388 - val_auc: 0.6962 - lr: 1.0000e-04\n",
            "Epoch 23/50\n",
            "15/15 [==============================] - 0s 24ms/step - loss: 0.0151 - accuracy: 1.0000 - auc: 1.0000 - val_loss: 1.5899 - val_accuracy: 0.6344 - val_auc: 0.6965 - lr: 1.0000e-05\n",
            "Epoch 24/50\n",
            "15/15 [==============================] - 0s 23ms/step - loss: 0.0150 - accuracy: 1.0000 - auc: 1.0000 - val_loss: 1.5912 - val_accuracy: 0.6344 - val_auc: 0.6962 - lr: 1.0000e-05\n",
            "Epoch 25/50\n",
            "15/15 [==============================] - 0s 26ms/step - loss: 0.0150 - accuracy: 1.0000 - auc: 1.0000 - val_loss: 1.5927 - val_accuracy: 0.6344 - val_auc: 0.6963 - lr: 1.0000e-05\n",
            "Epoch 26/50\n",
            "15/15 [==============================] - 0s 23ms/step - loss: 0.0149 - accuracy: 1.0000 - auc: 1.0000 - val_loss: 1.5945 - val_accuracy: 0.6388 - val_auc: 0.6960 - lr: 1.0000e-05\n",
            "Epoch 27/50\n",
            "15/15 [==============================] - 0s 22ms/step - loss: 0.0149 - accuracy: 1.0000 - auc: 1.0000 - val_loss: 1.5958 - val_accuracy: 0.6388 - val_auc: 0.6960 - lr: 1.0000e-05\n",
            "Epoch 28/50\n",
            "15/15 [==============================] - 0s 23ms/step - loss: 0.0148 - accuracy: 1.0000 - auc: 1.0000 - val_loss: 1.5970 - val_accuracy: 0.6388 - val_auc: 0.6962 - lr: 1.0000e-05\n",
            "Epoch 29/50\n",
            "15/15 [==============================] - 0s 23ms/step - loss: 0.0147 - accuracy: 1.0000 - auc: 1.0000 - val_loss: 1.5980 - val_accuracy: 0.6388 - val_auc: 0.6962 - lr: 1.0000e-05\n",
            "Epoch 30/50\n",
            "15/15 [==============================] - 0s 23ms/step - loss: 0.0146 - accuracy: 1.0000 - auc: 1.0000 - val_loss: 1.5993 - val_accuracy: 0.6388 - val_auc: 0.6962 - lr: 1.0000e-05\n",
            "Epoch 31/50\n",
            "15/15 [==============================] - 0s 23ms/step - loss: 0.0146 - accuracy: 1.0000 - auc: 1.0000 - val_loss: 1.6004 - val_accuracy: 0.6388 - val_auc: 0.6962 - lr: 1.0000e-05\n",
            "Epoch 32/50\n",
            "15/15 [==============================] - 0s 22ms/step - loss: 0.0145 - accuracy: 1.0000 - auc: 1.0000 - val_loss: 1.6009 - val_accuracy: 0.6344 - val_auc: 0.6965 - lr: 1.0000e-05\n",
            "Epoch 33/50\n",
            "15/15 [==============================] - 0s 22ms/step - loss: 0.0145 - accuracy: 1.0000 - auc: 1.0000 - val_loss: 1.6011 - val_accuracy: 0.6344 - val_auc: 0.6965 - lr: 1.0000e-06\n",
            "Epoch 34/50\n",
            "15/15 [==============================] - 0s 22ms/step - loss: 0.0144 - accuracy: 1.0000 - auc: 1.0000 - val_loss: 1.6013 - val_accuracy: 0.6344 - val_auc: 0.6964 - lr: 1.0000e-06\n",
            "Epoch 35/50\n",
            "15/15 [==============================] - 0s 23ms/step - loss: 0.0144 - accuracy: 1.0000 - auc: 1.0000 - val_loss: 1.6015 - val_accuracy: 0.6344 - val_auc: 0.6964 - lr: 1.0000e-06\n",
            "Epoch 36/50\n",
            "15/15 [==============================] - 0s 22ms/step - loss: 0.0144 - accuracy: 1.0000 - auc: 1.0000 - val_loss: 1.6017 - val_accuracy: 0.6344 - val_auc: 0.6964 - lr: 1.0000e-06\n",
            "Epoch 37/50\n",
            "15/15 [==============================] - 0s 24ms/step - loss: 0.0144 - accuracy: 1.0000 - auc: 1.0000 - val_loss: 1.6018 - val_accuracy: 0.6344 - val_auc: 0.6964 - lr: 1.0000e-06\n",
            "Epoch 38/50\n",
            "15/15 [==============================] - 0s 22ms/step - loss: 0.0144 - accuracy: 1.0000 - auc: 1.0000 - val_loss: 1.6021 - val_accuracy: 0.6344 - val_auc: 0.6963 - lr: 1.0000e-06\n",
            "Epoch 39/50\n",
            "15/15 [==============================] - 0s 23ms/step - loss: 0.0144 - accuracy: 1.0000 - auc: 1.0000 - val_loss: 1.6022 - val_accuracy: 0.6344 - val_auc: 0.6964 - lr: 1.0000e-06\n",
            "Epoch 40/50\n",
            "15/15 [==============================] - 0s 23ms/step - loss: 0.0144 - accuracy: 1.0000 - auc: 1.0000 - val_loss: 1.6025 - val_accuracy: 0.6344 - val_auc: 0.6964 - lr: 1.0000e-06\n",
            "Epoch 41/50\n",
            "15/15 [==============================] - 0s 23ms/step - loss: 0.0144 - accuracy: 1.0000 - auc: 1.0000 - val_loss: 1.6027 - val_accuracy: 0.6344 - val_auc: 0.6964 - lr: 1.0000e-06\n",
            "Epoch 42/50\n",
            "15/15 [==============================] - 0s 23ms/step - loss: 0.0144 - accuracy: 1.0000 - auc: 1.0000 - val_loss: 1.6028 - val_accuracy: 0.6344 - val_auc: 0.6964 - lr: 1.0000e-06\n",
            "Epoch 43/50\n",
            "15/15 [==============================] - 0s 23ms/step - loss: 0.0144 - accuracy: 1.0000 - auc: 1.0000 - val_loss: 1.6028 - val_accuracy: 0.6344 - val_auc: 0.6964 - lr: 1.0000e-07\n",
            "Epoch 44/50\n",
            "15/15 [==============================] - 0s 23ms/step - loss: 0.0144 - accuracy: 1.0000 - auc: 1.0000 - val_loss: 1.6028 - val_accuracy: 0.6344 - val_auc: 0.6964 - lr: 1.0000e-07\n",
            "Epoch 45/50\n",
            "15/15 [==============================] - 0s 23ms/step - loss: 0.0144 - accuracy: 1.0000 - auc: 1.0000 - val_loss: 1.6028 - val_accuracy: 0.6344 - val_auc: 0.6964 - lr: 1.0000e-07\n",
            "Epoch 46/50\n",
            "15/15 [==============================] - 0s 25ms/step - loss: 0.0144 - accuracy: 1.0000 - auc: 1.0000 - val_loss: 1.6029 - val_accuracy: 0.6344 - val_auc: 0.6964 - lr: 1.0000e-07\n",
            "Epoch 47/50\n",
            "15/15 [==============================] - 0s 22ms/step - loss: 0.0144 - accuracy: 1.0000 - auc: 1.0000 - val_loss: 1.6029 - val_accuracy: 0.6344 - val_auc: 0.6964 - lr: 1.0000e-07\n",
            "Epoch 48/50\n",
            "15/15 [==============================] - 0s 23ms/step - loss: 0.0144 - accuracy: 1.0000 - auc: 1.0000 - val_loss: 1.6029 - val_accuracy: 0.6344 - val_auc: 0.6964 - lr: 1.0000e-07\n",
            "Epoch 49/50\n",
            "15/15 [==============================] - 0s 23ms/step - loss: 0.0144 - accuracy: 1.0000 - auc: 1.0000 - val_loss: 1.6029 - val_accuracy: 0.6344 - val_auc: 0.6964 - lr: 1.0000e-07\n",
            "Epoch 50/50\n",
            "15/15 [==============================] - 0s 22ms/step - loss: 0.0144 - accuracy: 1.0000 - auc: 1.0000 - val_loss: 1.6029 - val_accuracy: 0.6344 - val_auc: 0.6964 - lr: 1.0000e-07\n"
          ]
        }
      ]
    },
    {
      "cell_type": "code",
      "source": [
        "model"
      ],
      "metadata": {
        "colab": {
          "base_uri": "https://localhost:8080/"
        },
        "id": "7V6M7Emir6bT",
        "outputId": "8f4907a0-9a73-46c2-8238-d98236800b90"
      },
      "execution_count": null,
      "outputs": [
        {
          "output_type": "execute_result",
          "data": {
            "text/plain": [
              "<keras.engine.functional.Functional at 0x7fe917eab290>"
            ]
          },
          "metadata": {},
          "execution_count": 112
        }
      ]
    },
    {
      "cell_type": "markdown",
      "source": [
        "# Results"
      ],
      "metadata": {
        "id": "gi_fWDJ2xXe-"
      }
    },
    {
      "cell_type": "code",
      "source": [
        "plt.figure(figsize=(12, 6))\n",
        "\n",
        "plt.plot(range(epochs), history.history['accuracy'], label=\"Training Accuracy\")\n",
        "plt.plot(range(epochs), history.history['val_accuracy'], label=\"Validation Accuracy\")\n",
        "\n",
        "plt.xlabel(\"Epoch\")\n",
        "plt.ylabel(\"Accuracy\")\n",
        "\n",
        "plt.legend()\n",
        "plt.title(\"Accuracy Over Time\")\n",
        "\n",
        "plt.show()"
      ],
      "metadata": {
        "trusted": true,
        "id": "rUY1cDuDxXe-",
        "colab": {
          "base_uri": "https://localhost:8080/",
          "height": 404
        },
        "outputId": "75b4779f-e0bb-42a7-ca93-ebb5ad2a6cc4"
      },
      "execution_count": null,
      "outputs": [
        {
          "output_type": "display_data",
          "data": {
            "text/plain": [
              "<Figure size 864x432 with 1 Axes>"
            ],
            "image/png": "[encoded data removed]"
          },
          "metadata": {
            "needs_background": "light"
          }
        }
      ]
    },
    {
      "cell_type": "code",
      "source": [
        "acc=model.evaluate(X_test, y_test)\n",
        "print(\"Loss :\",round(acc[0]),\"%\")\n",
        "print(\"Accuracy :\",round(acc[1]*100),\"%\")"
      ],
      "metadata": {
        "trusted": true,
        "id": "c02r_pyVxXe-",
        "colab": {
          "base_uri": "https://localhost:8080/"
        },
        "outputId": "300fece8-a611-4d9e-8dab-fc5a2daeb786"
      },
      "execution_count": null,
      "outputs": [
        {
          "output_type": "stream",
          "name": "stdout",
          "text": [
            "4/4 [==============================] - 0s 5ms/step - loss: 1.2789 - accuracy: 0.7540 - auc: 0.7803\n",
            "Loss : 1 %\n",
            "Accuracy : 75 %\n"
          ]
        }
      ]
    },
    {
      "cell_type": "code",
      "source": [
        "pred = model.predict(X_test[5:6])\n",
        "pred = pred*100\n",
        "\n",
        "if pred <= 50:\n",
        "  print(\"This person Depressed. Treatment Required\")\n",
        "elif pred >50:\n",
        "  print(\"This person is normal. Treatment not neccessary\")"
      ],
      "metadata": {
        "colab": {
          "base_uri": "https://localhost:8080/"
        },
        "id": "8m1WcaObS47C",
        "outputId": "5af7d277-e5c9-4296-e41a-1a8bdbae83ce"
      },
      "execution_count": null,
      "outputs": [
        {
          "output_type": "stream",
          "name": "stdout",
          "text": [
            "This person Depressed. Treatment Required\n"
          ]
        }
      ]
    },
    {
      "cell_type": "code",
      "source": [
        "# test_data = pd.read_csv('/content/drive/MyDrive/SURVEY DATA/survey-data.csv')\n",
        "# pred = model.predict(test_data[2:3])\n",
        "# pred = pred*100\n",
        "# pred"
      ],
      "metadata": {
        "id": "u0LDsd3Vx3KM"
      },
      "execution_count": null,
      "outputs": []
    },
    {
      "cell_type": "markdown",
      "source": [
        "# Data Every Day  \n",
        "\n",
        "This notebook is featured on Data Every Day, a YouTube series where I train models on a new dataset each day.  \n",
        "\n",
        "***\n",
        "\n",
        "Check it out!  \n",
        "https://youtu.be/G0Wh-xTnCHs"
      ],
      "metadata": {
        "id": "QUF1cjaaxXe_"
      }
    }
  ]
}